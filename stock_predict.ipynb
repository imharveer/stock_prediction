{
 "cells": [
  {
   "cell_type": "code",
   "execution_count": 2,
   "metadata": {},
   "outputs": [],
   "source": [
    "import numpy as np\n",
    "import pandas as pd\n",
    "import os\n",
    "import random\n",
    "import copy\n",
    "import matplotlib.pyplot as plt\n",
    "import pandas"
   ]
  },
  {
   "cell_type": "code",
   "execution_count": 27,
   "metadata": {},
   "outputs": [
    {
     "name": "stdout",
     "output_type": "stream",
     "text": [
      "7\n"
     ]
    }
   ],
   "source": [
    "list1 = os.listdir('/home/harveer/Desktop/Learner/project data')\n",
    "number_files = len(list)\n",
    "print(number_files)"
   ]
  },
  {
   "cell_type": "code",
   "execution_count": 28,
   "metadata": {},
   "outputs": [
    {
     "name": "stdout",
     "output_type": "stream",
     "text": [
      "['KSS.txt']\n"
     ]
    }
   ],
   "source": [
    "filenames=random.sample([x for x in list if x.endswith('.txt')],1)\n",
    "print(filenames)"
   ]
  },
  {
   "cell_type": "code",
   "execution_count": 38,
   "metadata": {},
   "outputs": [
    {
     "data": {
      "text/html": [
       "<div>\n",
       "<style scoped>\n",
       "    .dataframe tbody tr th:only-of-type {\n",
       "        vertical-align: middle;\n",
       "    }\n",
       "\n",
       "    .dataframe tbody tr th {\n",
       "        vertical-align: top;\n",
       "    }\n",
       "\n",
       "    .dataframe thead th {\n",
       "        text-align: right;\n",
       "    }\n",
       "</style>\n",
       "<table border=\"1\" class=\"dataframe\">\n",
       "  <thead>\n",
       "    <tr style=\"text-align: right;\">\n",
       "      <th></th>\n",
       "      <th>Date</th>\n",
       "      <th>Open</th>\n",
       "      <th>High</th>\n",
       "      <th>Low</th>\n",
       "      <th>Close</th>\n",
       "      <th>Adj Close</th>\n",
       "      <th>Volume</th>\n",
       "      <th>Label</th>\n",
       "    </tr>\n",
       "  </thead>\n",
       "  <tbody>\n",
       "    <tr>\n",
       "      <th>0</th>\n",
       "      <td>2000-02-01</td>\n",
       "      <td>35.6250</td>\n",
       "      <td>36.93750</td>\n",
       "      <td>35.18750</td>\n",
       "      <td>36.56250</td>\n",
       "      <td>27.657633</td>\n",
       "      <td>1241400</td>\n",
       "      <td>KSS</td>\n",
       "    </tr>\n",
       "    <tr>\n",
       "      <th>1</th>\n",
       "      <td>2000-02-02</td>\n",
       "      <td>36.5625</td>\n",
       "      <td>37.37500</td>\n",
       "      <td>36.12500</td>\n",
       "      <td>36.87500</td>\n",
       "      <td>27.894028</td>\n",
       "      <td>2038200</td>\n",
       "      <td>KSS</td>\n",
       "    </tr>\n",
       "    <tr>\n",
       "      <th>2</th>\n",
       "      <td>2000-02-03</td>\n",
       "      <td>37.7500</td>\n",
       "      <td>39.00000</td>\n",
       "      <td>37.62500</td>\n",
       "      <td>38.75000</td>\n",
       "      <td>29.312368</td>\n",
       "      <td>3186600</td>\n",
       "      <td>KSS</td>\n",
       "    </tr>\n",
       "    <tr>\n",
       "      <th>3</th>\n",
       "      <td>2000-02-04</td>\n",
       "      <td>39.1250</td>\n",
       "      <td>40.90625</td>\n",
       "      <td>39.03125</td>\n",
       "      <td>40.06250</td>\n",
       "      <td>30.305210</td>\n",
       "      <td>2559000</td>\n",
       "      <td>KSS</td>\n",
       "    </tr>\n",
       "    <tr>\n",
       "      <th>4</th>\n",
       "      <td>2000-02-07</td>\n",
       "      <td>40.0000</td>\n",
       "      <td>40.56250</td>\n",
       "      <td>39.65625</td>\n",
       "      <td>39.96875</td>\n",
       "      <td>30.234282</td>\n",
       "      <td>2269600</td>\n",
       "      <td>KSS</td>\n",
       "    </tr>\n",
       "  </tbody>\n",
       "</table>\n",
       "</div>"
      ],
      "text/plain": [
       "         Date     Open      High       Low     Close  Adj Close   Volume Label\n",
       "0  2000-02-01  35.6250  36.93750  35.18750  36.56250  27.657633  1241400   KSS\n",
       "1  2000-02-02  36.5625  37.37500  36.12500  36.87500  27.894028  2038200   KSS\n",
       "2  2000-02-03  37.7500  39.00000  37.62500  38.75000  29.312368  3186600   KSS\n",
       "3  2000-02-04  39.1250  40.90625  39.03125  40.06250  30.305210  2559000   KSS\n",
       "4  2000-02-07  40.0000  40.56250  39.65625  39.96875  30.234282  2269600   KSS"
      ]
     },
     "execution_count": 38,
     "metadata": {},
     "output_type": "execute_result"
    }
   ],
   "source": [
    "data = []\n",
    "for filename in filenames:\n",
    "    df = pd.read_csv(os.path.join('/home/harveer/Desktop/Learner/project data',filename),sep=',')\n",
    "    label, _ = filename.split('.')\n",
    "    df['Label'] = label\n",
    "#     df['Date'] = pd.to_datetime(df['Date'])\n",
    "\n",
    "    data.append(df)\n",
    "data[0].head()"
   ]
  },
  {
   "cell_type": "code",
   "execution_count": 41,
   "metadata": {},
   "outputs": [
    {
     "name": "stdout",
     "output_type": "stream",
     "text": [
      "         Date     Open      High       Low     Close  Adj Close   Volume Label\n",
      "0  2000-02-01  35.6250  36.93750  35.18750  36.56250  27.657633  1241400   KSS\n",
      "1  2000-02-02  36.5625  37.37500  36.12500  36.87500  27.894028  2038200   KSS\n",
      "2  2000-02-03  37.7500  39.00000  37.62500  38.75000  29.312368  3186600   KSS\n",
      "3  2000-02-04  39.1250  40.90625  39.03125  40.06250  30.305210  2559000   KSS\n",
      "4  2000-02-07  40.0000  40.56250  39.65625  39.96875  30.234282  2269600   KSS\n"
     ]
    }
   ],
   "source": [
    "TechIndicator = copy.deepcopy(data)\n",
    "print(TechIndicator[0].head())"
   ]
  },
  {
   "cell_type": "code",
   "execution_count": 46,
   "metadata": {},
   "outputs": [
    {
     "name": "stderr",
     "output_type": "stream",
     "text": [
      "/home/harveer/Desktop/Learner/myenv/lib/python3.5/site-packages/ipykernel_launcher.py:7: FutureWarning: Currently, 'apply' passes the values as ndarrays to the applied function. In the future, this will change to passing it as Series objects. You need to specify 'raw=True' to keep the current behaviour, and you can pass 'raw=False' to silence this warning\n",
      "  import sys\n"
     ]
    },
    {
     "name": "stdout",
     "output_type": "stream",
     "text": [
      "            Date       Open       High        Low      Close  Adj Close  \\\n",
      "4776  2019-01-28  69.919998  69.989998  68.989998  69.430000  69.430000   \n",
      "4777  2019-01-29  69.180000  69.760002  67.989998  69.559998  69.559998   \n",
      "4778  2019-01-30  69.970001  70.000000  68.129997  69.099998  69.099998   \n",
      "4779  2019-01-31  68.870003  69.250000  67.959999  68.690002  68.690002   \n",
      "4780  2019-02-01  68.839996  68.839996  66.279999  66.690002  66.690002   \n",
      "\n",
      "       Volume Label  Momentum_1D    RSI_14D  \n",
      "4776  2304300   KSS    -1.269997  40.022653  \n",
      "4777  2251700   KSS     0.129998  36.926737  \n",
      "4778  2349300   KSS    -0.460000  40.127371  \n",
      "4779  3370300   KSS    -0.409996  52.445396  \n",
      "4780  3848700   KSS    -2.000000  47.691099  \n"
     ]
    }
   ],
   "source": [
    "def rsi(values):\n",
    "    up = values[values>0].mean()\n",
    "    down = -1*values[values<0].mean()\n",
    "    return 100 * up / (up + down)\n",
    "\n",
    "TechIndicator[0]['Momentum_1D'] = (TechIndicator[0]['Close']-TechIndicator[0]['Close'].shift(1)).fillna(0)\n",
    "TechIndicator[0]['RSI_14D'] = TechIndicator[0]['Momentum_1D'].rolling(center=False, window=14).apply(rsi).fillna(0)\n",
    "print(TechIndicator[0].tail(5))"
   ]
  },
  {
   "cell_type": "code",
   "execution_count": 48,
   "metadata": {},
   "outputs": [],
   "source": [
    "# from sklearn.preprocessing import StandardScaler\n",
    "# sc = StandardScaler()\n",
    "# X_train = sc.fit_transform(X_train)\n",
    "# X_test = sc.transform(X_test)"
   ]
  },
  {
   "cell_type": "code",
   "execution_count": 51,
   "metadata": {},
   "outputs": [
    {
     "data": {
      "text/plain": [
       "array([[-0.6146741 , -1.1693795 ,  0.51987519,  0.44980633, -0.4508201 ,\n",
       "        -1.49347943,  0.53396765, -1.41137431, -0.00829303, -0.3280009 ],\n",
       "       [-1.25000762,  1.4827518 ,  0.62854809,  0.03630292, -0.37570364,\n",
       "         0.55363573, -0.11669567,  1.70663316, -0.21502438,  1.45851453],\n",
       "       [ 0.7992706 ,  0.91064269,  0.07088557, -1.81313969,  0.35669198,\n",
       "        -0.75738414, -2.03590225,  0.49507575, -0.36504123, -1.16399065]])"
      ]
     },
     "execution_count": 51,
     "metadata": {},
     "output_type": "execute_result"
    }
   ],
   "source": [
    "np.random.randn(3,10)"
   ]
  },
  {
   "cell_type": "code",
   "execution_count": 54,
   "metadata": {},
   "outputs": [
    {
     "data": {
      "text/html": [
       "<div>\n",
       "<style scoped>\n",
       "    .dataframe tbody tr th:only-of-type {\n",
       "        vertical-align: middle;\n",
       "    }\n",
       "\n",
       "    .dataframe tbody tr th {\n",
       "        vertical-align: top;\n",
       "    }\n",
       "\n",
       "    .dataframe thead th {\n",
       "        text-align: right;\n",
       "    }\n",
       "</style>\n",
       "<table border=\"1\" class=\"dataframe\">\n",
       "  <thead>\n",
       "    <tr style=\"text-align: right;\">\n",
       "      <th></th>\n",
       "      <th>A</th>\n",
       "      <th>B</th>\n",
       "      <th>C</th>\n",
       "      <th>D</th>\n",
       "    </tr>\n",
       "  </thead>\n",
       "  <tbody>\n",
       "    <tr>\n",
       "      <th>0</th>\n",
       "      <td>0</td>\n",
       "      <td>1</td>\n",
       "      <td>2</td>\n",
       "      <td>3</td>\n",
       "    </tr>\n",
       "    <tr>\n",
       "      <th>1</th>\n",
       "      <td>4</td>\n",
       "      <td>5</td>\n",
       "      <td>6</td>\n",
       "      <td>7</td>\n",
       "    </tr>\n",
       "    <tr>\n",
       "      <th>2</th>\n",
       "      <td>8</td>\n",
       "      <td>9</td>\n",
       "      <td>10</td>\n",
       "      <td>11</td>\n",
       "    </tr>\n",
       "  </tbody>\n",
       "</table>\n",
       "</div>"
      ],
      "text/plain": [
       "   A  B   C   D\n",
       "0  0  1   2   3\n",
       "1  4  5   6   7\n",
       "2  8  9  10  11"
      ]
     },
     "execution_count": 54,
     "metadata": {},
     "output_type": "execute_result"
    }
   ],
   "source": [
    "df = pd.DataFrame(np.arange(12).reshape(3,4),columns=['A', 'B', 'C', 'D'])\n",
    "df"
   ]
  },
  {
   "cell_type": "code",
   "execution_count": 56,
   "metadata": {},
   "outputs": [
    {
     "data": {
      "text/html": [
       "<div>\n",
       "<style scoped>\n",
       "    .dataframe tbody tr th:only-of-type {\n",
       "        vertical-align: middle;\n",
       "    }\n",
       "\n",
       "    .dataframe tbody tr th {\n",
       "        vertical-align: top;\n",
       "    }\n",
       "\n",
       "    .dataframe thead th {\n",
       "        text-align: right;\n",
       "    }\n",
       "</style>\n",
       "<table border=\"1\" class=\"dataframe\">\n",
       "  <thead>\n",
       "    <tr style=\"text-align: right;\">\n",
       "      <th></th>\n",
       "      <th>A</th>\n",
       "      <th>D</th>\n",
       "    </tr>\n",
       "  </thead>\n",
       "  <tbody>\n",
       "    <tr>\n",
       "      <th>0</th>\n",
       "      <td>0</td>\n",
       "      <td>3</td>\n",
       "    </tr>\n",
       "    <tr>\n",
       "      <th>1</th>\n",
       "      <td>4</td>\n",
       "      <td>7</td>\n",
       "    </tr>\n",
       "    <tr>\n",
       "      <th>2</th>\n",
       "      <td>8</td>\n",
       "      <td>11</td>\n",
       "    </tr>\n",
       "  </tbody>\n",
       "</table>\n",
       "</div>"
      ],
      "text/plain": [
       "   A   D\n",
       "0  0   3\n",
       "1  4   7\n",
       "2  8  11"
      ]
     },
     "execution_count": 56,
     "metadata": {},
     "output_type": "execute_result"
    }
   ],
   "source": [
    "x=df.drop(['B', 'C'], axis=1)\n",
    "x"
   ]
  },
  {
   "cell_type": "code",
   "execution_count": 57,
   "metadata": {},
   "outputs": [
    {
     "data": {
      "text/html": [
       "<div>\n",
       "<style scoped>\n",
       "    .dataframe tbody tr th:only-of-type {\n",
       "        vertical-align: middle;\n",
       "    }\n",
       "\n",
       "    .dataframe tbody tr th {\n",
       "        vertical-align: top;\n",
       "    }\n",
       "\n",
       "    .dataframe thead th {\n",
       "        text-align: right;\n",
       "    }\n",
       "</style>\n",
       "<table border=\"1\" class=\"dataframe\">\n",
       "  <thead>\n",
       "    <tr style=\"text-align: right;\">\n",
       "      <th></th>\n",
       "      <th>A</th>\n",
       "      <th>B</th>\n",
       "      <th>C</th>\n",
       "      <th>D</th>\n",
       "    </tr>\n",
       "  </thead>\n",
       "  <tbody>\n",
       "    <tr>\n",
       "      <th>0</th>\n",
       "      <td>0</td>\n",
       "      <td>1</td>\n",
       "      <td>2</td>\n",
       "      <td>3</td>\n",
       "    </tr>\n",
       "    <tr>\n",
       "      <th>1</th>\n",
       "      <td>4</td>\n",
       "      <td>5</td>\n",
       "      <td>6</td>\n",
       "      <td>7</td>\n",
       "    </tr>\n",
       "    <tr>\n",
       "      <th>2</th>\n",
       "      <td>8</td>\n",
       "      <td>9</td>\n",
       "      <td>10</td>\n",
       "      <td>11</td>\n",
       "    </tr>\n",
       "  </tbody>\n",
       "</table>\n",
       "</div>"
      ],
      "text/plain": [
       "   A  B   C   D\n",
       "0  0  1   2   3\n",
       "1  4  5   6   7\n",
       "2  8  9  10  11"
      ]
     },
     "execution_count": 57,
     "metadata": {},
     "output_type": "execute_result"
    }
   ],
   "source": [
    "df"
   ]
  }
 ],
 "metadata": {
  "kernelspec": {
   "display_name": "Python 3",
   "language": "python",
   "name": "python3"
  },
  "language_info": {
   "codemirror_mode": {
    "name": "ipython",
    "version": 3
   },
   "file_extension": ".py",
   "mimetype": "text/x-python",
   "name": "python",
   "nbconvert_exporter": "python",
   "pygments_lexer": "ipython3",
   "version": "3.5.2"
  }
 },
 "nbformat": 4,
 "nbformat_minor": 2
}
